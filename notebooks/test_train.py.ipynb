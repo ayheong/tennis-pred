{
 "cells": [
  {
   "cell_type": "code",
   "id": "initial_id",
   "metadata": {
    "collapsed": true,
    "ExecuteTime": {
     "end_time": "2025-09-05T04:53:24.120445Z",
     "start_time": "2025-09-05T04:53:21.731641Z"
    }
   },
   "source": [
    "import sys, os\n",
    "os.chdir(\"..\")\n",
    "!\"{sys.executable}\" -m pip install -r requirements.txt\n"
   ],
   "outputs": [
    {
     "name": "stdout",
     "output_type": "stream",
     "text": [
      "Looking in indexes: https://pypi.org/simple, https://pypi.ngc.nvidia.com\n",
      "Requirement already satisfied: annotated-types==0.7.0 in c:\\users\\andy\\documents\\personal_projects\\tennis-mlops\\tennis-pred\\.venv\\lib\\site-packages (from -r requirements.txt (line 1)) (0.7.0)\n",
      "Requirement already satisfied: anyio==4.10.0 in c:\\users\\andy\\documents\\personal_projects\\tennis-mlops\\tennis-pred\\.venv\\lib\\site-packages (from -r requirements.txt (line 2)) (4.10.0)\n",
      "Requirement already satisfied: click==8.2.1 in c:\\users\\andy\\documents\\personal_projects\\tennis-mlops\\tennis-pred\\.venv\\lib\\site-packages (from -r requirements.txt (line 3)) (8.2.1)\n",
      "Requirement already satisfied: colorama==0.4.6 in c:\\users\\andy\\documents\\personal_projects\\tennis-mlops\\tennis-pred\\.venv\\lib\\site-packages (from -r requirements.txt (line 4)) (0.4.6)\n",
      "Requirement already satisfied: et_xmlfile==2.0.0 in c:\\users\\andy\\documents\\personal_projects\\tennis-mlops\\tennis-pred\\.venv\\lib\\site-packages (from -r requirements.txt (line 5)) (2.0.0)\n",
      "Requirement already satisfied: fastapi==0.116.1 in c:\\users\\andy\\documents\\personal_projects\\tennis-mlops\\tennis-pred\\.venv\\lib\\site-packages (from -r requirements.txt (line 6)) (0.116.1)\n",
      "Requirement already satisfied: h11==0.16.0 in c:\\users\\andy\\documents\\personal_projects\\tennis-mlops\\tennis-pred\\.venv\\lib\\site-packages (from -r requirements.txt (line 7)) (0.16.0)\n",
      "Requirement already satisfied: idna==3.10 in c:\\users\\andy\\documents\\personal_projects\\tennis-mlops\\tennis-pred\\.venv\\lib\\site-packages (from -r requirements.txt (line 8)) (3.10)\n",
      "Requirement already satisfied: joblib==1.3.0 in c:\\users\\andy\\documents\\personal_projects\\tennis-mlops\\tennis-pred\\.venv\\lib\\site-packages (from -r requirements.txt (line 9)) (1.3.0)\n",
      "Requirement already satisfied: lightgbm==4.6.0 in c:\\users\\andy\\documents\\personal_projects\\tennis-mlops\\tennis-pred\\.venv\\lib\\site-packages (from -r requirements.txt (line 10)) (4.6.0)\n",
      "Requirement already satisfied: numpy==2.3.2 in c:\\users\\andy\\documents\\personal_projects\\tennis-mlops\\tennis-pred\\.venv\\lib\\site-packages (from -r requirements.txt (line 11)) (2.3.2)\n",
      "Requirement already satisfied: openpyxl==3.1.5 in c:\\users\\andy\\documents\\personal_projects\\tennis-mlops\\tennis-pred\\.venv\\lib\\site-packages (from -r requirements.txt (line 12)) (3.1.5)\n",
      "Requirement already satisfied: pandas==2.3.2 in c:\\users\\andy\\documents\\personal_projects\\tennis-mlops\\tennis-pred\\.venv\\lib\\site-packages (from -r requirements.txt (line 13)) (2.3.2)\n",
      "Requirement already satisfied: pydantic==2.11.7 in c:\\users\\andy\\documents\\personal_projects\\tennis-mlops\\tennis-pred\\.venv\\lib\\site-packages (from -r requirements.txt (line 14)) (2.11.7)\n",
      "Requirement already satisfied: pydantic_core==2.33.2 in c:\\users\\andy\\documents\\personal_projects\\tennis-mlops\\tennis-pred\\.venv\\lib\\site-packages (from -r requirements.txt (line 15)) (2.33.2)\n",
      "Requirement already satisfied: python-dateutil==2.9.0.post0 in c:\\users\\andy\\documents\\personal_projects\\tennis-mlops\\tennis-pred\\.venv\\lib\\site-packages (from -r requirements.txt (line 16)) (2.9.0.post0)\n",
      "Requirement already satisfied: pytz==2025.2 in c:\\users\\andy\\documents\\personal_projects\\tennis-mlops\\tennis-pred\\.venv\\lib\\site-packages (from -r requirements.txt (line 17)) (2025.2)\n",
      "Requirement already satisfied: scikit-learn==1.7.1 in c:\\users\\andy\\documents\\personal_projects\\tennis-mlops\\tennis-pred\\.venv\\lib\\site-packages (from -r requirements.txt (line 18)) (1.7.1)\n",
      "Requirement already satisfied: scipy==1.16.1 in c:\\users\\andy\\documents\\personal_projects\\tennis-mlops\\tennis-pred\\.venv\\lib\\site-packages (from -r requirements.txt (line 19)) (1.16.1)\n",
      "Requirement already satisfied: six==1.17.0 in c:\\users\\andy\\documents\\personal_projects\\tennis-mlops\\tennis-pred\\.venv\\lib\\site-packages (from -r requirements.txt (line 20)) (1.17.0)\n",
      "Requirement already satisfied: sniffio==1.3.1 in c:\\users\\andy\\documents\\personal_projects\\tennis-mlops\\tennis-pred\\.venv\\lib\\site-packages (from -r requirements.txt (line 21)) (1.3.1)\n",
      "Requirement already satisfied: starlette==0.47.3 in c:\\users\\andy\\documents\\personal_projects\\tennis-mlops\\tennis-pred\\.venv\\lib\\site-packages (from -r requirements.txt (line 22)) (0.47.3)\n",
      "Requirement already satisfied: threadpoolctl==3.6.0 in c:\\users\\andy\\documents\\personal_projects\\tennis-mlops\\tennis-pred\\.venv\\lib\\site-packages (from -r requirements.txt (line 23)) (3.6.0)\n",
      "Requirement already satisfied: typing-inspection==0.4.1 in c:\\users\\andy\\documents\\personal_projects\\tennis-mlops\\tennis-pred\\.venv\\lib\\site-packages (from -r requirements.txt (line 24)) (0.4.1)\n",
      "Requirement already satisfied: typing_extensions==4.15.0 in c:\\users\\andy\\documents\\personal_projects\\tennis-mlops\\tennis-pred\\.venv\\lib\\site-packages (from -r requirements.txt (line 25)) (4.15.0)\n",
      "Requirement already satisfied: tzdata==2025.2 in c:\\users\\andy\\documents\\personal_projects\\tennis-mlops\\tennis-pred\\.venv\\lib\\site-packages (from -r requirements.txt (line 26)) (2025.2)\n",
      "Requirement already satisfied: uvicorn==0.35.0 in c:\\users\\andy\\documents\\personal_projects\\tennis-mlops\\tennis-pred\\.venv\\lib\\site-packages (from -r requirements.txt (line 27)) (0.35.0)\n"
     ]
    }
   ],
   "execution_count": 1
  },
  {
   "metadata": {
    "ExecuteTime": {
     "end_time": "2025-09-05T04:53:27.364207Z",
     "start_time": "2025-09-05T04:53:24.260314Z"
    }
   },
   "cell_type": "code",
   "source": "!\"{sys.executable}\" src/models/train.py",
   "id": "dd53e1d9d2f59ec9",
   "outputs": [
    {
     "name": "stdout",
     "output_type": "stream",
     "text": [
      "Loading matches...\n",
      "Matches loaded: (14862, 17)\n",
      "Building features...\n",
      "Sequential split → train: 13375, val: 1487\n",
      "Validation metrics (ensemble): {'logloss': 0.6484408509684322, 'auc': 0.6916980790141356, 'accuracy@0.50': 0.6408876933422999, 'accuracy@optJ': 0.6529926025554809, 'balanced_accuracy@optJ': 0.650770206596593, 'brier': 0.2280838198552858, 'best_threshold_optJ': 0.47265651662696734, 'best_iteration_mean': 44, 'n_train': 13375, 'n_val': 1487, 'n_models': 5}\n",
      "Artifacts saved to models/\n"
     ]
    }
   ],
   "execution_count": 2
  }
 ],
 "metadata": {
  "kernelspec": {
   "display_name": "Python 3",
   "language": "python",
   "name": "python3"
  },
  "language_info": {
   "codemirror_mode": {
    "name": "ipython",
    "version": 2
   },
   "file_extension": ".py",
   "mimetype": "text/x-python",
   "name": "python",
   "nbconvert_exporter": "python",
   "pygments_lexer": "ipython2",
   "version": "2.7.6"
  }
 },
 "nbformat": 4,
 "nbformat_minor": 5
}
