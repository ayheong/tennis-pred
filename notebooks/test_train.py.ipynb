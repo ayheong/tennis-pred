{
 "cells": [
  {
   "cell_type": "code",
   "id": "initial_id",
   "metadata": {
    "collapsed": true,
    "ExecuteTime": {
     "end_time": "2025-08-26T05:47:27.749801Z",
     "start_time": "2025-08-26T05:47:25.740273Z"
    }
   },
   "source": [
    "import sys, os\n",
    "os.chdir(\"..\")\n",
    "!\"{sys.executable}\" -m pip install -r requirements.txt\n"
   ],
   "outputs": [
    {
     "name": "stdout",
     "output_type": "stream",
     "text": [
      "Defaulting to user installation because normal site-packages is not writeable\n",
      "Looking in indexes: https://pypi.org/simple, https://pypi.ngc.nvidia.com\n",
      "Requirement already satisfied: numpy>=1.24 in c:\\users\\andy\\appdata\\local\\packages\\pythonsoftwarefoundation.python.3.12_qbz5n2kfra8p0\\localcache\\local-packages\\python312\\site-packages (from -r requirements.txt (line 1)) (1.26.2)\n",
      "Requirement already satisfied: pandas>=2.0 in c:\\users\\andy\\appdata\\local\\packages\\pythonsoftwarefoundation.python.3.12_qbz5n2kfra8p0\\localcache\\local-packages\\python312\\site-packages (from -r requirements.txt (line 2)) (2.3.1)\n",
      "Requirement already satisfied: scikit-learn>=1.3 in c:\\users\\andy\\appdata\\local\\packages\\pythonsoftwarefoundation.python.3.12_qbz5n2kfra8p0\\localcache\\local-packages\\python312\\site-packages (from -r requirements.txt (line 3)) (1.3.2)\n",
      "Requirement already satisfied: lightgbm>=4.2 in c:\\users\\andy\\appdata\\local\\packages\\pythonsoftwarefoundation.python.3.12_qbz5n2kfra8p0\\localcache\\local-packages\\python312\\site-packages (from -r requirements.txt (line 4)) (4.6.0)\n",
      "Requirement already satisfied: joblib>=1.3 in c:\\users\\andy\\appdata\\local\\packages\\pythonsoftwarefoundation.python.3.12_qbz5n2kfra8p0\\localcache\\local-packages\\python312\\site-packages (from -r requirements.txt (line 5)) (1.3.2)\n",
      "Requirement already satisfied: python-dateutil>=2.8.2 in c:\\users\\andy\\appdata\\local\\packages\\pythonsoftwarefoundation.python.3.12_qbz5n2kfra8p0\\localcache\\local-packages\\python312\\site-packages (from pandas>=2.0->-r requirements.txt (line 2)) (2.9.0.post0)\n",
      "Requirement already satisfied: pytz>=2020.1 in c:\\users\\andy\\appdata\\local\\packages\\pythonsoftwarefoundation.python.3.12_qbz5n2kfra8p0\\localcache\\local-packages\\python312\\site-packages (from pandas>=2.0->-r requirements.txt (line 2)) (2025.2)\n",
      "Requirement already satisfied: tzdata>=2022.7 in c:\\users\\andy\\appdata\\local\\packages\\pythonsoftwarefoundation.python.3.12_qbz5n2kfra8p0\\localcache\\local-packages\\python312\\site-packages (from pandas>=2.0->-r requirements.txt (line 2)) (2025.2)\n",
      "Requirement already satisfied: scipy>=1.5.0 in c:\\users\\andy\\appdata\\local\\packages\\pythonsoftwarefoundation.python.3.12_qbz5n2kfra8p0\\localcache\\local-packages\\python312\\site-packages (from scikit-learn>=1.3->-r requirements.txt (line 3)) (1.11.4)\n",
      "Requirement already satisfied: threadpoolctl>=2.0.0 in c:\\users\\andy\\appdata\\local\\packages\\pythonsoftwarefoundation.python.3.12_qbz5n2kfra8p0\\localcache\\local-packages\\python312\\site-packages (from scikit-learn>=1.3->-r requirements.txt (line 3)) (3.2.0)\n",
      "Requirement already satisfied: six>=1.5 in c:\\users\\andy\\appdata\\local\\packages\\pythonsoftwarefoundation.python.3.12_qbz5n2kfra8p0\\localcache\\local-packages\\python312\\site-packages (from python-dateutil>=2.8.2->pandas>=2.0->-r requirements.txt (line 2)) (1.16.0)\n"
     ]
    }
   ],
   "execution_count": 1
  },
  {
   "metadata": {
    "ExecuteTime": {
     "end_time": "2025-08-26T05:47:30.860688Z",
     "start_time": "2025-08-26T05:47:27.886650Z"
    }
   },
   "cell_type": "code",
   "source": "!\"{sys.executable}\" src/models/train.py",
   "id": "dd53e1d9d2f59ec9",
   "outputs": [
    {
     "name": "stdout",
     "output_type": "stream",
     "text": [
      "Loading matches...\n",
      "Matches loaded: (14862, 17)\n",
      "Building features...\n",
      "Sequential split → train: 13375, val: 1487\n",
      "Validation metrics (ensemble): {'logloss': 0.6484408509684322, 'auc': 0.6916980790141356, 'accuracy@0.50': 0.6408876933422999, 'accuracy@optJ': 0.6529926025554809, 'balanced_accuracy@optJ': 0.650770206596593, 'brier': 0.2280838198552858, 'best_threshold_optJ': 0.47265651662696734, 'best_iteration_mean': 44, 'n_train': 13375, 'n_val': 1487, 'n_models': 5}\n",
      "Artifacts saved to models/\n"
     ]
    }
   ],
   "execution_count": 2
  }
 ],
 "metadata": {
  "kernelspec": {
   "display_name": "Python 3",
   "language": "python",
   "name": "python3"
  },
  "language_info": {
   "codemirror_mode": {
    "name": "ipython",
    "version": 2
   },
   "file_extension": ".py",
   "mimetype": "text/x-python",
   "name": "python",
   "nbconvert_exporter": "python",
   "pygments_lexer": "ipython2",
   "version": "2.7.6"
  }
 },
 "nbformat": 4,
 "nbformat_minor": 5
}
