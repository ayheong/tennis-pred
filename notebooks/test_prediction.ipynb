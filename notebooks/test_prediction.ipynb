{
 "cells": [
  {
   "metadata": {
    "ExecuteTime": {
     "end_time": "2025-09-05T04:56:54.943428Z",
     "start_time": "2025-09-05T04:56:54.802234Z"
    }
   },
   "cell_type": "code",
   "source": [
    "from src.models.predict_names import predict_by_names\n",
    "\n",
    "print(predict_by_names(\"Novak Djokovic\", \"Carlos Alcaraz\", surface=\"Hard\", best_of=5))"
   ],
   "id": "initial_id",
   "outputs": [
    {
     "name": "stdout",
     "output_type": "stream",
     "text": [
      "{'players': {'A': 'Novak Djokovic', 'B': 'Carlos Alcaraz'}, 'as_of': '2025-08-24', 'inputs': {'surface': 'Hard', 'best_of': 5, 'tourney_level': 'A'}, 'prob_A_wins': 0.4681790588348977, 'threshold': 0.47265651662696734, 'pick': 'Carlos Alcaraz', 'pick_is_A': False, 'insights': {'h2h_overall': {'A_wins': 5, 'B_wins': 3, 'total': 8, 'A_rate_smoothed': 0.6}, 'h2h_on_surface': {'A_wins': 3, 'B_wins': 0, 'total': 3}, 'recent_form': {'A_wr10': 0.8, 'B_wr10': 0.9, 'A_wr10_Hard': 0.7, 'B_wr10_Hard': 0.8, 'A_wr365_all': 0.767, 'B_wr365_all': 0.859, 'A_wr365_Hard': 0.76, 'B_wr365_Hard': 0.795}, 'player_info': {'A': {'rank': np.float64(6.0), 'age': np.float64(38.13826146475017), 'ht': np.float64(188.0), 'hand': 'R'}, 'B': {'rank': np.float64(2.0), 'age': np.float64(22.190280629705683), 'ht': np.float64(183.0), 'hand': 'R'}}}}\n"
     ]
    }
   ],
   "execution_count": 4
  },
  {
   "metadata": {
    "ExecuteTime": {
     "end_time": "2025-09-05T04:56:54.953946Z",
     "start_time": "2025-09-05T04:56:54.952489Z"
    }
   },
   "cell_type": "code",
   "source": "",
   "id": "d71778b06b6b6cae",
   "outputs": [],
   "execution_count": null
  }
 ],
 "metadata": {
  "kernelspec": {
   "display_name": "Python 3",
   "language": "python",
   "name": "python3"
  },
  "language_info": {
   "codemirror_mode": {
    "name": "ipython",
    "version": 2
   },
   "file_extension": ".py",
   "mimetype": "text/x-python",
   "name": "python",
   "nbconvert_exporter": "python",
   "pygments_lexer": "ipython2",
   "version": "2.7.6"
  }
 },
 "nbformat": 4,
 "nbformat_minor": 5
}
