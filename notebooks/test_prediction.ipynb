{
 "cells": [
  {
   "metadata": {
    "ExecuteTime": {
     "end_time": "2025-08-26T05:47:38.325627Z",
     "start_time": "2025-08-26T05:47:37.370366Z"
    }
   },
   "cell_type": "code",
   "source": [
    "from src.models.predict_names import predict_by_names\n",
    "\n",
    "out = predict_by_names(\"Stefanos Tsitsipas\", \"Alexandre Muller\", surface=\"Hard\", best_of=5)\n",
    "print(out)"
   ],
   "id": "initial_id",
   "outputs": [
    {
     "name": "stdout",
     "output_type": "stream",
     "text": [
      "{'players': {'A': 'Stefanos Tsitsipas', 'B': 'Alexandre Muller'}, 'as_of': '2025-08-24', 'inputs': {'surface': 'Hard', 'best_of': 5, 'tourney_level': 'A'}, 'prob_A_wins': 0.5852982790576069, 'threshold': 0.47265651662696734, 'pick': 'Stefanos Tsitsipas', 'pick_is_A': True, 'insights': {'h2h_overall': {'A_wins': 2, 'B_wins': 0, 'total': 2, 'A_rate_smoothed': 0.75}, 'h2h_on_surface': {'A_wins': 1, 'B_wins': 0, 'total': 1}, 'recent_form': {'A_wr10': 0.4, 'B_wr10': 0.3, 'A_wr10_Hard': 0.5, 'B_wr10_Hard': 0.4, 'A_wr365_all': 0.596, 'B_wr365_all': 0.468, 'A_wr365_Hard': 0.588, 'B_wr365_Hard': 0.48}, 'player_info': {'A': {'rank': 28.0, 'age': 27.02258726899384, 'ht': 193.0, 'hand': 'R'}, 'B': {'rank': 38.0, 'age': 28.54757015742642, 'ht': 183.0, 'hand': 'R'}}}}\n"
     ]
    }
   ],
   "execution_count": 1
  },
  {
   "metadata": {},
   "cell_type": "code",
   "outputs": [],
   "execution_count": null,
   "source": "",
   "id": "d71778b06b6b6cae"
  }
 ],
 "metadata": {
  "kernelspec": {
   "display_name": "Python 3",
   "language": "python",
   "name": "python3"
  },
  "language_info": {
   "codemirror_mode": {
    "name": "ipython",
    "version": 2
   },
   "file_extension": ".py",
   "mimetype": "text/x-python",
   "name": "python",
   "nbconvert_exporter": "python",
   "pygments_lexer": "ipython2",
   "version": "2.7.6"
  }
 },
 "nbformat": 4,
 "nbformat_minor": 5
}
