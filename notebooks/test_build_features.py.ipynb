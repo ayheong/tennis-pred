{
 "cells": [
  {
   "metadata": {
    "ExecuteTime": {
     "end_time": "2025-08-26T05:46:35.168976Z",
     "start_time": "2025-08-26T05:46:35.165915Z"
    }
   },
   "cell_type": "code",
   "source": [
    "import sys, os\n",
    "os.chdir(\"..\")\n",
    "print(\"cwd:\", os.getcwd())"
   ],
   "id": "35a7b52b40a933d6",
   "outputs": [
    {
     "name": "stdout",
     "output_type": "stream",
     "text": [
      "cwd: C:\\Users\\Andy\\Documents\\Personal_Projects\\tennis-mlops\\tennis-pred\n"
     ]
    }
   ],
   "execution_count": 1
  },
  {
   "metadata": {
    "ExecuteTime": {
     "end_time": "2025-08-26T05:46:37.440716Z",
     "start_time": "2025-08-26T05:46:35.300640Z"
    }
   },
   "cell_type": "code",
   "source": "!\"{sys.executable}\" -m pip install -r requirements.txt",
   "id": "c77ed72ff71ebded",
   "outputs": [
    {
     "name": "stdout",
     "output_type": "stream",
     "text": [
      "Defaulting to user installation because normal site-packages is not writeable\n",
      "Looking in indexes: https://pypi.org/simple, https://pypi.ngc.nvidia.com\n",
      "Requirement already satisfied: numpy>=1.24 in c:\\users\\andy\\appdata\\local\\packages\\pythonsoftwarefoundation.python.3.12_qbz5n2kfra8p0\\localcache\\local-packages\\python312\\site-packages (from -r requirements.txt (line 1)) (1.26.2)\n",
      "Requirement already satisfied: pandas>=2.0 in c:\\users\\andy\\appdata\\local\\packages\\pythonsoftwarefoundation.python.3.12_qbz5n2kfra8p0\\localcache\\local-packages\\python312\\site-packages (from -r requirements.txt (line 2)) (2.3.1)\n",
      "Requirement already satisfied: scikit-learn>=1.3 in c:\\users\\andy\\appdata\\local\\packages\\pythonsoftwarefoundation.python.3.12_qbz5n2kfra8p0\\localcache\\local-packages\\python312\\site-packages (from -r requirements.txt (line 3)) (1.3.2)\n",
      "Requirement already satisfied: lightgbm>=4.2 in c:\\users\\andy\\appdata\\local\\packages\\pythonsoftwarefoundation.python.3.12_qbz5n2kfra8p0\\localcache\\local-packages\\python312\\site-packages (from -r requirements.txt (line 4)) (4.6.0)\n",
      "Requirement already satisfied: joblib>=1.3 in c:\\users\\andy\\appdata\\local\\packages\\pythonsoftwarefoundation.python.3.12_qbz5n2kfra8p0\\localcache\\local-packages\\python312\\site-packages (from -r requirements.txt (line 5)) (1.3.2)\n",
      "Requirement already satisfied: python-dateutil>=2.8.2 in c:\\users\\andy\\appdata\\local\\packages\\pythonsoftwarefoundation.python.3.12_qbz5n2kfra8p0\\localcache\\local-packages\\python312\\site-packages (from pandas>=2.0->-r requirements.txt (line 2)) (2.9.0.post0)\n",
      "Requirement already satisfied: pytz>=2020.1 in c:\\users\\andy\\appdata\\local\\packages\\pythonsoftwarefoundation.python.3.12_qbz5n2kfra8p0\\localcache\\local-packages\\python312\\site-packages (from pandas>=2.0->-r requirements.txt (line 2)) (2025.2)\n",
      "Requirement already satisfied: tzdata>=2022.7 in c:\\users\\andy\\appdata\\local\\packages\\pythonsoftwarefoundation.python.3.12_qbz5n2kfra8p0\\localcache\\local-packages\\python312\\site-packages (from pandas>=2.0->-r requirements.txt (line 2)) (2025.2)\n",
      "Requirement already satisfied: scipy>=1.5.0 in c:\\users\\andy\\appdata\\local\\packages\\pythonsoftwarefoundation.python.3.12_qbz5n2kfra8p0\\localcache\\local-packages\\python312\\site-packages (from scikit-learn>=1.3->-r requirements.txt (line 3)) (1.11.4)\n",
      "Requirement already satisfied: threadpoolctl>=2.0.0 in c:\\users\\andy\\appdata\\local\\packages\\pythonsoftwarefoundation.python.3.12_qbz5n2kfra8p0\\localcache\\local-packages\\python312\\site-packages (from scikit-learn>=1.3->-r requirements.txt (line 3)) (3.2.0)\n",
      "Requirement already satisfied: six>=1.5 in c:\\users\\andy\\appdata\\local\\packages\\pythonsoftwarefoundation.python.3.12_qbz5n2kfra8p0\\localcache\\local-packages\\python312\\site-packages (from python-dateutil>=2.8.2->pandas>=2.0->-r requirements.txt (line 2)) (1.16.0)\n"
     ]
    }
   ],
   "execution_count": 2
  },
  {
   "metadata": {
    "ExecuteTime": {
     "end_time": "2025-08-26T05:46:37.988106Z",
     "start_time": "2025-08-26T05:46:37.444719Z"
    }
   },
   "cell_type": "code",
   "source": [
    "import pandas as pd\n",
    "from src.features.build_features import (\n",
    "    load_matches, dataframe_to_examples,\n",
    "    fit_label_encoders, apply_label_encoders\n",
    ")"
   ],
   "id": "initial_id",
   "outputs": [],
   "execution_count": 3
  },
  {
   "metadata": {
    "ExecuteTime": {
     "end_time": "2025-08-26T05:46:38.018671Z",
     "start_time": "2025-08-26T05:46:38.001919Z"
    }
   },
   "cell_type": "code",
   "source": [
    "# 1. Load one year of matches\n",
    "df = load_matches(\"data/raw/atp_matches_2023.csv\")\n",
    "print(\"Loaded shape:\", df.shape)"
   ],
   "id": "dc46822b63f7c50e",
   "outputs": [
    {
     "name": "stdout",
     "output_type": "stream",
     "text": [
      "Loaded shape: (2904, 17)\n"
     ]
    }
   ],
   "execution_count": 4
  },
  {
   "metadata": {
    "ExecuteTime": {
     "end_time": "2025-08-26T05:46:38.222892Z",
     "start_time": "2025-08-26T05:46:38.031671Z"
    }
   },
   "cell_type": "code",
   "source": [
    "X_raw, y, weight = dataframe_to_examples(df, flip_prob=0.5, half_life_days=365)\n",
    "print(\"Engineered features sample:\")\n",
    "print(X_raw.head())\n",
    "print(\"Labels:\", y.head().tolist())"
   ],
   "id": "5337ba139fbefbd3",
   "outputs": [
    {
     "name": "stdout",
     "output_type": "stream",
     "text": [
      "Engineered features sample:\n",
      "   rank_diff  age_diff  ht_diff  hand_match  best_of surface tourney_level  \\\n",
      "0       -7.0      -1.6      0.0           1        3    Hard             A   \n",
      "1        7.0       7.1      3.0           1        3    Hard             A   \n",
      "2       -4.0       1.2    -13.0           1        3    Hard             A   \n",
      "3       25.0       7.6    -18.0           0        3    Hard             A   \n",
      "4      -13.0      -9.5      5.0           1        3    Hard             A   \n",
      "\n",
      "   wr10_diff  h2h_prior_diff  year  month_sin  month_cos  \n",
      "0   0.000000             0.0  2023        0.5   0.866025  \n",
      "1   0.500000            -0.0  2023        0.5   0.866025  \n",
      "2  -0.500000             0.0  2023        0.5   0.866025  \n",
      "3   0.166667             0.0  2023        0.5   0.866025  \n",
      "4   0.500000            -0.0  2023        0.5   0.866025  \n",
      "Labels: [1, 0, 1, 1, 0]\n"
     ]
    }
   ],
   "execution_count": 5
  },
  {
   "metadata": {
    "ExecuteTime": {
     "end_time": "2025-08-26T05:46:38.238149Z",
     "start_time": "2025-08-26T05:46:38.232819Z"
    }
   },
   "cell_type": "code",
   "source": [
    "X_enc, enc = fit_label_encoders(X_raw.copy())\n",
    "print(\"Encoded features sample:\")\n",
    "print(X_enc.head())"
   ],
   "id": "3514ee16ee337b18",
   "outputs": [
    {
     "name": "stdout",
     "output_type": "stream",
     "text": [
      "Encoded features sample:\n",
      "   rank_diff  age_diff  ht_diff  hand_match  best_of  surface  tourney_level  \\\n",
      "0       -7.0      -1.6      0.0           1        3        2              0   \n",
      "1        7.0       7.1      3.0           1        3        2              0   \n",
      "2       -4.0       1.2    -13.0           1        3        2              0   \n",
      "3       25.0       7.6    -18.0           0        3        2              0   \n",
      "4      -13.0      -9.5      5.0           1        3        2              0   \n",
      "\n",
      "   wr10_diff  h2h_prior_diff  year  month_sin  month_cos  \n",
      "0   0.000000             0.0  2023        0.5   0.866025  \n",
      "1   0.500000            -0.0  2023        0.5   0.866025  \n",
      "2  -0.500000             0.0  2023        0.5   0.866025  \n",
      "3   0.166667             0.0  2023        0.5   0.866025  \n",
      "4   0.500000            -0.0  2023        0.5   0.866025  \n"
     ]
    }
   ],
   "execution_count": 6
  }
 ],
 "metadata": {
  "kernelspec": {
   "display_name": "Python 3",
   "language": "python",
   "name": "python3"
  },
  "language_info": {
   "codemirror_mode": {
    "name": "ipython",
    "version": 2
   },
   "file_extension": ".py",
   "mimetype": "text/x-python",
   "name": "python",
   "nbconvert_exporter": "python",
   "pygments_lexer": "ipython2",
   "version": "2.7.6"
  }
 },
 "nbformat": 4,
 "nbformat_minor": 5
}
